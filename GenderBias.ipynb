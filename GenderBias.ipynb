{
  "nbformat": 4,
  "nbformat_minor": 0,
  "metadata": {
    "colab": {
      "provenance": []
    },
    "kernelspec": {
      "name": "python3",
      "display_name": "Python 3"
    },
    "language_info": {
      "name": "python"
    }
  },
  "cells": [
    {
      "cell_type": "code",
      "execution_count": null,
      "metadata": {
        "id": "ygRPO2x-4Izv"
      },
      "outputs": [],
      "source": [
        "import pandas as pd\n",
        "import numpy as np"
      ]
    },
    {
      "cell_type": "code",
      "source": [
        "df1 = pd.read_csv(\"/content/pairs-label-training (1) (1).csv\")"
      ],
      "metadata": {
        "id": "xBHHeVQs4Lx7"
      },
      "execution_count": null,
      "outputs": []
    },
    {
      "cell_type": "code",
      "source": [
        "df1\n",
        "df1['Code'].value_counts()"
      ],
      "metadata": {
        "colab": {
          "base_uri": "https://localhost:8080/"
        },
        "id": "nFjB2V8Y5ege",
        "outputId": "64fd4567-4094-44ab-b1a4-eb25afbf5d54"
      },
      "execution_count": null,
      "outputs": [
        {
          "output_type": "execute_result",
          "data": {
            "text/plain": [
              "0    80400\n",
              "1    75551\n",
              "Name: Code, dtype: int64"
            ]
          },
          "metadata": {},
          "execution_count": 5
        }
      ]
    },
    {
      "cell_type": "code",
      "source": [
        "df2 = pd.read_csv(\"/content/datainteriit (1).csv\")\n"
      ],
      "metadata": {
        "id": "XpNbDZMb5ieU"
      },
      "execution_count": null,
      "outputs": []
    },
    {
      "cell_type": "code",
      "source": [
        "df2"
      ],
      "metadata": {
        "colab": {
          "base_uri": "https://localhost:8080/",
          "height": 424
        },
        "id": "jfpcjpQv6ddL",
        "outputId": "630fe5c7-ade8-4ae8-d6b6-47fa8001c785"
      },
      "execution_count": null,
      "outputs": [
        {
          "output_type": "execute_result",
          "data": {
            "text/plain": [
              "      Unique id                                               text\n",
              "0             1  Besides these forests naturally developed fore...\n",
              "1             2  Your mother cleans the rice by separating husk...\n",
              "2             3  All free gifts of nature and all things which ...\n",
              "3             4  Humanism - the concept that man is the measure...\n",
              "4             5  Various designs in clothing are found dependin...\n",
              "...         ...                                                ...\n",
              "1995       1996  Bring both the ends of threads together and pu...\n",
              "1996       1997  What is the duration of the longest day in Dec...\n",
              "1997       1998  PotassiumProtein synthesisEnables the opening ...\n",
              "1998       1999  To prevent water pollution in our country prim...\n",
              "1999       2000  This game was used effectively in sports educa...\n",
              "\n",
              "[2000 rows x 2 columns]"
            ],
            "text/html": [
              "\n",
              "  <div id=\"df-38d4f32b-b0c2-4f12-b6c2-0b7bac7c1e44\">\n",
              "    <div class=\"colab-df-container\">\n",
              "      <div>\n",
              "<style scoped>\n",
              "    .dataframe tbody tr th:only-of-type {\n",
              "        vertical-align: middle;\n",
              "    }\n",
              "\n",
              "    .dataframe tbody tr th {\n",
              "        vertical-align: top;\n",
              "    }\n",
              "\n",
              "    .dataframe thead th {\n",
              "        text-align: right;\n",
              "    }\n",
              "</style>\n",
              "<table border=\"1\" class=\"dataframe\">\n",
              "  <thead>\n",
              "    <tr style=\"text-align: right;\">\n",
              "      <th></th>\n",
              "      <th>Unique id</th>\n",
              "      <th>text</th>\n",
              "    </tr>\n",
              "  </thead>\n",
              "  <tbody>\n",
              "    <tr>\n",
              "      <th>0</th>\n",
              "      <td>1</td>\n",
              "      <td>Besides these forests naturally developed fore...</td>\n",
              "    </tr>\n",
              "    <tr>\n",
              "      <th>1</th>\n",
              "      <td>2</td>\n",
              "      <td>Your mother cleans the rice by separating husk...</td>\n",
              "    </tr>\n",
              "    <tr>\n",
              "      <th>2</th>\n",
              "      <td>3</td>\n",
              "      <td>All free gifts of nature and all things which ...</td>\n",
              "    </tr>\n",
              "    <tr>\n",
              "      <th>3</th>\n",
              "      <td>4</td>\n",
              "      <td>Humanism - the concept that man is the measure...</td>\n",
              "    </tr>\n",
              "    <tr>\n",
              "      <th>4</th>\n",
              "      <td>5</td>\n",
              "      <td>Various designs in clothing are found dependin...</td>\n",
              "    </tr>\n",
              "    <tr>\n",
              "      <th>...</th>\n",
              "      <td>...</td>\n",
              "      <td>...</td>\n",
              "    </tr>\n",
              "    <tr>\n",
              "      <th>1995</th>\n",
              "      <td>1996</td>\n",
              "      <td>Bring both the ends of threads together and pu...</td>\n",
              "    </tr>\n",
              "    <tr>\n",
              "      <th>1996</th>\n",
              "      <td>1997</td>\n",
              "      <td>What is the duration of the longest day in Dec...</td>\n",
              "    </tr>\n",
              "    <tr>\n",
              "      <th>1997</th>\n",
              "      <td>1998</td>\n",
              "      <td>PotassiumProtein synthesisEnables the opening ...</td>\n",
              "    </tr>\n",
              "    <tr>\n",
              "      <th>1998</th>\n",
              "      <td>1999</td>\n",
              "      <td>To prevent water pollution in our country prim...</td>\n",
              "    </tr>\n",
              "    <tr>\n",
              "      <th>1999</th>\n",
              "      <td>2000</td>\n",
              "      <td>This game was used effectively in sports educa...</td>\n",
              "    </tr>\n",
              "  </tbody>\n",
              "</table>\n",
              "<p>2000 rows × 2 columns</p>\n",
              "</div>\n",
              "      <button class=\"colab-df-convert\" onclick=\"convertToInteractive('df-38d4f32b-b0c2-4f12-b6c2-0b7bac7c1e44')\"\n",
              "              title=\"Convert this dataframe to an interactive table.\"\n",
              "              style=\"display:none;\">\n",
              "        \n",
              "  <svg xmlns=\"http://www.w3.org/2000/svg\" height=\"24px\"viewBox=\"0 0 24 24\"\n",
              "       width=\"24px\">\n",
              "    <path d=\"M0 0h24v24H0V0z\" fill=\"none\"/>\n",
              "    <path d=\"M18.56 5.44l.94 2.06.94-2.06 2.06-.94-2.06-.94-.94-2.06-.94 2.06-2.06.94zm-11 1L8.5 8.5l.94-2.06 2.06-.94-2.06-.94L8.5 2.5l-.94 2.06-2.06.94zm10 10l.94 2.06.94-2.06 2.06-.94-2.06-.94-.94-2.06-.94 2.06-2.06.94z\"/><path d=\"M17.41 7.96l-1.37-1.37c-.4-.4-.92-.59-1.43-.59-.52 0-1.04.2-1.43.59L10.3 9.45l-7.72 7.72c-.78.78-.78 2.05 0 2.83L4 21.41c.39.39.9.59 1.41.59.51 0 1.02-.2 1.41-.59l7.78-7.78 2.81-2.81c.8-.78.8-2.07 0-2.86zM5.41 20L4 18.59l7.72-7.72 1.47 1.35L5.41 20z\"/>\n",
              "  </svg>\n",
              "      </button>\n",
              "      \n",
              "  <style>\n",
              "    .colab-df-container {\n",
              "      display:flex;\n",
              "      flex-wrap:wrap;\n",
              "      gap: 12px;\n",
              "    }\n",
              "\n",
              "    .colab-df-convert {\n",
              "      background-color: #E8F0FE;\n",
              "      border: none;\n",
              "      border-radius: 50%;\n",
              "      cursor: pointer;\n",
              "      display: none;\n",
              "      fill: #1967D2;\n",
              "      height: 32px;\n",
              "      padding: 0 0 0 0;\n",
              "      width: 32px;\n",
              "    }\n",
              "\n",
              "    .colab-df-convert:hover {\n",
              "      background-color: #E2EBFA;\n",
              "      box-shadow: 0px 1px 2px rgba(60, 64, 67, 0.3), 0px 1px 3px 1px rgba(60, 64, 67, 0.15);\n",
              "      fill: #174EA6;\n",
              "    }\n",
              "\n",
              "    [theme=dark] .colab-df-convert {\n",
              "      background-color: #3B4455;\n",
              "      fill: #D2E3FC;\n",
              "    }\n",
              "\n",
              "    [theme=dark] .colab-df-convert:hover {\n",
              "      background-color: #434B5C;\n",
              "      box-shadow: 0px 1px 3px 1px rgba(0, 0, 0, 0.15);\n",
              "      filter: drop-shadow(0px 1px 2px rgba(0, 0, 0, 0.3));\n",
              "      fill: #FFFFFF;\n",
              "    }\n",
              "  </style>\n",
              "\n",
              "      <script>\n",
              "        const buttonEl =\n",
              "          document.querySelector('#df-38d4f32b-b0c2-4f12-b6c2-0b7bac7c1e44 button.colab-df-convert');\n",
              "        buttonEl.style.display =\n",
              "          google.colab.kernel.accessAllowed ? 'block' : 'none';\n",
              "\n",
              "        async function convertToInteractive(key) {\n",
              "          const element = document.querySelector('#df-38d4f32b-b0c2-4f12-b6c2-0b7bac7c1e44');\n",
              "          const dataTable =\n",
              "            await google.colab.kernel.invokeFunction('convertToInteractive',\n",
              "                                                     [key], {});\n",
              "          if (!dataTable) return;\n",
              "\n",
              "          const docLinkHtml = 'Like what you see? Visit the ' +\n",
              "            '<a target=\"_blank\" href=https://colab.research.google.com/notebooks/data_table.ipynb>data table notebook</a>'\n",
              "            + ' to learn more about interactive tables.';\n",
              "          element.innerHTML = '';\n",
              "          dataTable['output_type'] = 'display_data';\n",
              "          await google.colab.output.renderOutput(dataTable, element);\n",
              "          const docLink = document.createElement('div');\n",
              "          docLink.innerHTML = docLinkHtml;\n",
              "          element.appendChild(docLink);\n",
              "        }\n",
              "      </script>\n",
              "    </div>\n",
              "  </div>\n",
              "  "
            ]
          },
          "metadata": {},
          "execution_count": 51
        }
      ]
    },
    {
      "cell_type": "code",
      "source": [
        "import nltk"
      ],
      "metadata": {
        "id": "0L3z3so26gTW"
      },
      "execution_count": null,
      "outputs": []
    },
    {
      "cell_type": "code",
      "source": [
        "import string\n",
        "string.punctuation"
      ],
      "metadata": {
        "colab": {
          "base_uri": "https://localhost:8080/",
          "height": 35
        },
        "id": "NKiMPWWR6vMJ",
        "outputId": "dbb2a449-0089-406d-f1f5-fdd7ab739eb0"
      },
      "execution_count": null,
      "outputs": [
        {
          "output_type": "execute_result",
          "data": {
            "text/plain": [
              "'!\"#$%&\\'()*+,-./:;<=>?@[\\\\]^_`{|}~'"
            ],
            "application/vnd.google.colaboratory.intrinsic+json": {
              "type": "string"
            }
          },
          "metadata": {},
          "execution_count": 53
        }
      ]
    },
    {
      "cell_type": "code",
      "source": [
        "def punctuationfree(text):\n",
        "  punctuation_free = \"\".join([i for i in text if i not in string.punctuation])\n",
        "  return punctuation_free"
      ],
      "metadata": {
        "id": "mrf-3oRm8J5y"
      },
      "execution_count": null,
      "outputs": []
    },
    {
      "cell_type": "code",
      "source": [
        "df2['Punctuation_free_text'] = df2['text'].apply(lambda x:punctuationfree(x))"
      ],
      "metadata": {
        "id": "IyF3BrDK8eCs"
      },
      "execution_count": null,
      "outputs": []
    },
    {
      "cell_type": "code",
      "source": [
        "df2"
      ],
      "metadata": {
        "colab": {
          "base_uri": "https://localhost:8080/",
          "height": 424
        },
        "id": "f64ViZ-h_X02",
        "outputId": "66581d34-550a-493d-8f73-858af0a81f79"
      },
      "execution_count": null,
      "outputs": [
        {
          "output_type": "execute_result",
          "data": {
            "text/plain": [
              "      Unique id                                               text  \\\n",
              "0             1  Besides these forests naturally developed fore...   \n",
              "1             2  Your mother cleans the rice by separating husk...   \n",
              "2             3  All free gifts of nature and all things which ...   \n",
              "3             4  Humanism - the concept that man is the measure...   \n",
              "4             5  Various designs in clothing are found dependin...   \n",
              "...         ...                                                ...   \n",
              "1995       1996  Bring both the ends of threads together and pu...   \n",
              "1996       1997  What is the duration of the longest day in Dec...   \n",
              "1997       1998  PotassiumProtein synthesisEnables the opening ...   \n",
              "1998       1999  To prevent water pollution in our country prim...   \n",
              "1999       2000  This game was used effectively in sports educa...   \n",
              "\n",
              "                                  Punctuation_free_text  \n",
              "0     Besides these forests naturally developed fore...  \n",
              "1     Your mother cleans the rice by separating husk...  \n",
              "2     All free gifts of nature and all things which ...  \n",
              "3     Humanism  the concept that man is the measure ...  \n",
              "4     Various designs in clothing are found dependin...  \n",
              "...                                                 ...  \n",
              "1995  Bring both the ends of threads together and pu...  \n",
              "1996  What is the duration of the longest day in Dec...  \n",
              "1997  PotassiumProtein synthesisEnables the opening ...  \n",
              "1998  To prevent water pollution in our country prim...  \n",
              "1999  This game was used effectively in sports educa...  \n",
              "\n",
              "[2000 rows x 3 columns]"
            ],
            "text/html": [
              "\n",
              "  <div id=\"df-94eaabd3-cbc0-4821-853a-965409bb62d6\">\n",
              "    <div class=\"colab-df-container\">\n",
              "      <div>\n",
              "<style scoped>\n",
              "    .dataframe tbody tr th:only-of-type {\n",
              "        vertical-align: middle;\n",
              "    }\n",
              "\n",
              "    .dataframe tbody tr th {\n",
              "        vertical-align: top;\n",
              "    }\n",
              "\n",
              "    .dataframe thead th {\n",
              "        text-align: right;\n",
              "    }\n",
              "</style>\n",
              "<table border=\"1\" class=\"dataframe\">\n",
              "  <thead>\n",
              "    <tr style=\"text-align: right;\">\n",
              "      <th></th>\n",
              "      <th>Unique id</th>\n",
              "      <th>text</th>\n",
              "      <th>Punctuation_free_text</th>\n",
              "    </tr>\n",
              "  </thead>\n",
              "  <tbody>\n",
              "    <tr>\n",
              "      <th>0</th>\n",
              "      <td>1</td>\n",
              "      <td>Besides these forests naturally developed fore...</td>\n",
              "      <td>Besides these forests naturally developed fore...</td>\n",
              "    </tr>\n",
              "    <tr>\n",
              "      <th>1</th>\n",
              "      <td>2</td>\n",
              "      <td>Your mother cleans the rice by separating husk...</td>\n",
              "      <td>Your mother cleans the rice by separating husk...</td>\n",
              "    </tr>\n",
              "    <tr>\n",
              "      <th>2</th>\n",
              "      <td>3</td>\n",
              "      <td>All free gifts of nature and all things which ...</td>\n",
              "      <td>All free gifts of nature and all things which ...</td>\n",
              "    </tr>\n",
              "    <tr>\n",
              "      <th>3</th>\n",
              "      <td>4</td>\n",
              "      <td>Humanism - the concept that man is the measure...</td>\n",
              "      <td>Humanism  the concept that man is the measure ...</td>\n",
              "    </tr>\n",
              "    <tr>\n",
              "      <th>4</th>\n",
              "      <td>5</td>\n",
              "      <td>Various designs in clothing are found dependin...</td>\n",
              "      <td>Various designs in clothing are found dependin...</td>\n",
              "    </tr>\n",
              "    <tr>\n",
              "      <th>...</th>\n",
              "      <td>...</td>\n",
              "      <td>...</td>\n",
              "      <td>...</td>\n",
              "    </tr>\n",
              "    <tr>\n",
              "      <th>1995</th>\n",
              "      <td>1996</td>\n",
              "      <td>Bring both the ends of threads together and pu...</td>\n",
              "      <td>Bring both the ends of threads together and pu...</td>\n",
              "    </tr>\n",
              "    <tr>\n",
              "      <th>1996</th>\n",
              "      <td>1997</td>\n",
              "      <td>What is the duration of the longest day in Dec...</td>\n",
              "      <td>What is the duration of the longest day in Dec...</td>\n",
              "    </tr>\n",
              "    <tr>\n",
              "      <th>1997</th>\n",
              "      <td>1998</td>\n",
              "      <td>PotassiumProtein synthesisEnables the opening ...</td>\n",
              "      <td>PotassiumProtein synthesisEnables the opening ...</td>\n",
              "    </tr>\n",
              "    <tr>\n",
              "      <th>1998</th>\n",
              "      <td>1999</td>\n",
              "      <td>To prevent water pollution in our country prim...</td>\n",
              "      <td>To prevent water pollution in our country prim...</td>\n",
              "    </tr>\n",
              "    <tr>\n",
              "      <th>1999</th>\n",
              "      <td>2000</td>\n",
              "      <td>This game was used effectively in sports educa...</td>\n",
              "      <td>This game was used effectively in sports educa...</td>\n",
              "    </tr>\n",
              "  </tbody>\n",
              "</table>\n",
              "<p>2000 rows × 3 columns</p>\n",
              "</div>\n",
              "      <button class=\"colab-df-convert\" onclick=\"convertToInteractive('df-94eaabd3-cbc0-4821-853a-965409bb62d6')\"\n",
              "              title=\"Convert this dataframe to an interactive table.\"\n",
              "              style=\"display:none;\">\n",
              "        \n",
              "  <svg xmlns=\"http://www.w3.org/2000/svg\" height=\"24px\"viewBox=\"0 0 24 24\"\n",
              "       width=\"24px\">\n",
              "    <path d=\"M0 0h24v24H0V0z\" fill=\"none\"/>\n",
              "    <path d=\"M18.56 5.44l.94 2.06.94-2.06 2.06-.94-2.06-.94-.94-2.06-.94 2.06-2.06.94zm-11 1L8.5 8.5l.94-2.06 2.06-.94-2.06-.94L8.5 2.5l-.94 2.06-2.06.94zm10 10l.94 2.06.94-2.06 2.06-.94-2.06-.94-.94-2.06-.94 2.06-2.06.94z\"/><path d=\"M17.41 7.96l-1.37-1.37c-.4-.4-.92-.59-1.43-.59-.52 0-1.04.2-1.43.59L10.3 9.45l-7.72 7.72c-.78.78-.78 2.05 0 2.83L4 21.41c.39.39.9.59 1.41.59.51 0 1.02-.2 1.41-.59l7.78-7.78 2.81-2.81c.8-.78.8-2.07 0-2.86zM5.41 20L4 18.59l7.72-7.72 1.47 1.35L5.41 20z\"/>\n",
              "  </svg>\n",
              "      </button>\n",
              "      \n",
              "  <style>\n",
              "    .colab-df-container {\n",
              "      display:flex;\n",
              "      flex-wrap:wrap;\n",
              "      gap: 12px;\n",
              "    }\n",
              "\n",
              "    .colab-df-convert {\n",
              "      background-color: #E8F0FE;\n",
              "      border: none;\n",
              "      border-radius: 50%;\n",
              "      cursor: pointer;\n",
              "      display: none;\n",
              "      fill: #1967D2;\n",
              "      height: 32px;\n",
              "      padding: 0 0 0 0;\n",
              "      width: 32px;\n",
              "    }\n",
              "\n",
              "    .colab-df-convert:hover {\n",
              "      background-color: #E2EBFA;\n",
              "      box-shadow: 0px 1px 2px rgba(60, 64, 67, 0.3), 0px 1px 3px 1px rgba(60, 64, 67, 0.15);\n",
              "      fill: #174EA6;\n",
              "    }\n",
              "\n",
              "    [theme=dark] .colab-df-convert {\n",
              "      background-color: #3B4455;\n",
              "      fill: #D2E3FC;\n",
              "    }\n",
              "\n",
              "    [theme=dark] .colab-df-convert:hover {\n",
              "      background-color: #434B5C;\n",
              "      box-shadow: 0px 1px 3px 1px rgba(0, 0, 0, 0.15);\n",
              "      filter: drop-shadow(0px 1px 2px rgba(0, 0, 0, 0.3));\n",
              "      fill: #FFFFFF;\n",
              "    }\n",
              "  </style>\n",
              "\n",
              "      <script>\n",
              "        const buttonEl =\n",
              "          document.querySelector('#df-94eaabd3-cbc0-4821-853a-965409bb62d6 button.colab-df-convert');\n",
              "        buttonEl.style.display =\n",
              "          google.colab.kernel.accessAllowed ? 'block' : 'none';\n",
              "\n",
              "        async function convertToInteractive(key) {\n",
              "          const element = document.querySelector('#df-94eaabd3-cbc0-4821-853a-965409bb62d6');\n",
              "          const dataTable =\n",
              "            await google.colab.kernel.invokeFunction('convertToInteractive',\n",
              "                                                     [key], {});\n",
              "          if (!dataTable) return;\n",
              "\n",
              "          const docLinkHtml = 'Like what you see? Visit the ' +\n",
              "            '<a target=\"_blank\" href=https://colab.research.google.com/notebooks/data_table.ipynb>data table notebook</a>'\n",
              "            + ' to learn more about interactive tables.';\n",
              "          element.innerHTML = '';\n",
              "          dataTable['output_type'] = 'display_data';\n",
              "          await google.colab.output.renderOutput(dataTable, element);\n",
              "          const docLink = document.createElement('div');\n",
              "          docLink.innerHTML = docLinkHtml;\n",
              "          element.appendChild(docLink);\n",
              "        }\n",
              "      </script>\n",
              "    </div>\n",
              "  </div>\n",
              "  "
            ]
          },
          "metadata": {},
          "execution_count": 58
        }
      ]
    },
    {
      "cell_type": "code",
      "source": [
        "df2['lower_case'] = df2['Punctuation_free_text'].apply(lambda x:x.lower())"
      ],
      "metadata": {
        "id": "x0CaCfx1_dj8"
      },
      "execution_count": null,
      "outputs": []
    },
    {
      "cell_type": "code",
      "source": [
        "df2"
      ],
      "metadata": {
        "colab": {
          "base_uri": "https://localhost:8080/",
          "height": 641
        },
        "id": "UAzctimn_6i9",
        "outputId": "ec69aab3-b8a8-41dd-f516-7d28a1156a54"
      },
      "execution_count": null,
      "outputs": [
        {
          "output_type": "execute_result",
          "data": {
            "text/plain": [
              "      Unique id                                               text  \\\n",
              "0             1  Besides these forests naturally developed fore...   \n",
              "1             2  Your mother cleans the rice by separating husk...   \n",
              "2             3  All free gifts of nature and all things which ...   \n",
              "3             4  Humanism - the concept that man is the measure...   \n",
              "4             5  Various designs in clothing are found dependin...   \n",
              "...         ...                                                ...   \n",
              "1995       1996  Bring both the ends of threads together and pu...   \n",
              "1996       1997  What is the duration of the longest day in Dec...   \n",
              "1997       1998  PotassiumProtein synthesisEnables the opening ...   \n",
              "1998       1999  To prevent water pollution in our country prim...   \n",
              "1999       2000  This game was used effectively in sports educa...   \n",
              "\n",
              "                                  Punctuation_free_text  \\\n",
              "0     Besides these forests naturally developed fore...   \n",
              "1     Your mother cleans the rice by separating husk...   \n",
              "2     All free gifts of nature and all things which ...   \n",
              "3     Humanism  the concept that man is the measure ...   \n",
              "4     Various designs in clothing are found dependin...   \n",
              "...                                                 ...   \n",
              "1995  Bring both the ends of threads together and pu...   \n",
              "1996  What is the duration of the longest day in Dec...   \n",
              "1997  PotassiumProtein synthesisEnables the opening ...   \n",
              "1998  To prevent water pollution in our country prim...   \n",
              "1999  This game was used effectively in sports educa...   \n",
              "\n",
              "                                             lower_case  \n",
              "0     besides these forests naturally developed fore...  \n",
              "1     your mother cleans the rice by separating husk...  \n",
              "2     all free gifts of nature and all things which ...  \n",
              "3     humanism  the concept that man is the measure ...  \n",
              "4     various designs in clothing are found dependin...  \n",
              "...                                                 ...  \n",
              "1995  bring both the ends of threads together and pu...  \n",
              "1996  what is the duration of the longest day in dec...  \n",
              "1997  potassiumprotein synthesisenables the opening ...  \n",
              "1998  to prevent water pollution in our country prim...  \n",
              "1999  this game was used effectively in sports educa...  \n",
              "\n",
              "[2000 rows x 4 columns]"
            ],
            "text/html": [
              "\n",
              "  <div id=\"df-35144c3d-cd48-40fa-a0c0-bf69ec20c473\">\n",
              "    <div class=\"colab-df-container\">\n",
              "      <div>\n",
              "<style scoped>\n",
              "    .dataframe tbody tr th:only-of-type {\n",
              "        vertical-align: middle;\n",
              "    }\n",
              "\n",
              "    .dataframe tbody tr th {\n",
              "        vertical-align: top;\n",
              "    }\n",
              "\n",
              "    .dataframe thead th {\n",
              "        text-align: right;\n",
              "    }\n",
              "</style>\n",
              "<table border=\"1\" class=\"dataframe\">\n",
              "  <thead>\n",
              "    <tr style=\"text-align: right;\">\n",
              "      <th></th>\n",
              "      <th>Unique id</th>\n",
              "      <th>text</th>\n",
              "      <th>Punctuation_free_text</th>\n",
              "      <th>lower_case</th>\n",
              "    </tr>\n",
              "  </thead>\n",
              "  <tbody>\n",
              "    <tr>\n",
              "      <th>0</th>\n",
              "      <td>1</td>\n",
              "      <td>Besides these forests naturally developed fore...</td>\n",
              "      <td>Besides these forests naturally developed fore...</td>\n",
              "      <td>besides these forests naturally developed fore...</td>\n",
              "    </tr>\n",
              "    <tr>\n",
              "      <th>1</th>\n",
              "      <td>2</td>\n",
              "      <td>Your mother cleans the rice by separating husk...</td>\n",
              "      <td>Your mother cleans the rice by separating husk...</td>\n",
              "      <td>your mother cleans the rice by separating husk...</td>\n",
              "    </tr>\n",
              "    <tr>\n",
              "      <th>2</th>\n",
              "      <td>3</td>\n",
              "      <td>All free gifts of nature and all things which ...</td>\n",
              "      <td>All free gifts of nature and all things which ...</td>\n",
              "      <td>all free gifts of nature and all things which ...</td>\n",
              "    </tr>\n",
              "    <tr>\n",
              "      <th>3</th>\n",
              "      <td>4</td>\n",
              "      <td>Humanism - the concept that man is the measure...</td>\n",
              "      <td>Humanism  the concept that man is the measure ...</td>\n",
              "      <td>humanism  the concept that man is the measure ...</td>\n",
              "    </tr>\n",
              "    <tr>\n",
              "      <th>4</th>\n",
              "      <td>5</td>\n",
              "      <td>Various designs in clothing are found dependin...</td>\n",
              "      <td>Various designs in clothing are found dependin...</td>\n",
              "      <td>various designs in clothing are found dependin...</td>\n",
              "    </tr>\n",
              "    <tr>\n",
              "      <th>...</th>\n",
              "      <td>...</td>\n",
              "      <td>...</td>\n",
              "      <td>...</td>\n",
              "      <td>...</td>\n",
              "    </tr>\n",
              "    <tr>\n",
              "      <th>1995</th>\n",
              "      <td>1996</td>\n",
              "      <td>Bring both the ends of threads together and pu...</td>\n",
              "      <td>Bring both the ends of threads together and pu...</td>\n",
              "      <td>bring both the ends of threads together and pu...</td>\n",
              "    </tr>\n",
              "    <tr>\n",
              "      <th>1996</th>\n",
              "      <td>1997</td>\n",
              "      <td>What is the duration of the longest day in Dec...</td>\n",
              "      <td>What is the duration of the longest day in Dec...</td>\n",
              "      <td>what is the duration of the longest day in dec...</td>\n",
              "    </tr>\n",
              "    <tr>\n",
              "      <th>1997</th>\n",
              "      <td>1998</td>\n",
              "      <td>PotassiumProtein synthesisEnables the opening ...</td>\n",
              "      <td>PotassiumProtein synthesisEnables the opening ...</td>\n",
              "      <td>potassiumprotein synthesisenables the opening ...</td>\n",
              "    </tr>\n",
              "    <tr>\n",
              "      <th>1998</th>\n",
              "      <td>1999</td>\n",
              "      <td>To prevent water pollution in our country prim...</td>\n",
              "      <td>To prevent water pollution in our country prim...</td>\n",
              "      <td>to prevent water pollution in our country prim...</td>\n",
              "    </tr>\n",
              "    <tr>\n",
              "      <th>1999</th>\n",
              "      <td>2000</td>\n",
              "      <td>This game was used effectively in sports educa...</td>\n",
              "      <td>This game was used effectively in sports educa...</td>\n",
              "      <td>this game was used effectively in sports educa...</td>\n",
              "    </tr>\n",
              "  </tbody>\n",
              "</table>\n",
              "<p>2000 rows × 4 columns</p>\n",
              "</div>\n",
              "      <button class=\"colab-df-convert\" onclick=\"convertToInteractive('df-35144c3d-cd48-40fa-a0c0-bf69ec20c473')\"\n",
              "              title=\"Convert this dataframe to an interactive table.\"\n",
              "              style=\"display:none;\">\n",
              "        \n",
              "  <svg xmlns=\"http://www.w3.org/2000/svg\" height=\"24px\"viewBox=\"0 0 24 24\"\n",
              "       width=\"24px\">\n",
              "    <path d=\"M0 0h24v24H0V0z\" fill=\"none\"/>\n",
              "    <path d=\"M18.56 5.44l.94 2.06.94-2.06 2.06-.94-2.06-.94-.94-2.06-.94 2.06-2.06.94zm-11 1L8.5 8.5l.94-2.06 2.06-.94-2.06-.94L8.5 2.5l-.94 2.06-2.06.94zm10 10l.94 2.06.94-2.06 2.06-.94-2.06-.94-.94-2.06-.94 2.06-2.06.94z\"/><path d=\"M17.41 7.96l-1.37-1.37c-.4-.4-.92-.59-1.43-.59-.52 0-1.04.2-1.43.59L10.3 9.45l-7.72 7.72c-.78.78-.78 2.05 0 2.83L4 21.41c.39.39.9.59 1.41.59.51 0 1.02-.2 1.41-.59l7.78-7.78 2.81-2.81c.8-.78.8-2.07 0-2.86zM5.41 20L4 18.59l7.72-7.72 1.47 1.35L5.41 20z\"/>\n",
              "  </svg>\n",
              "      </button>\n",
              "      \n",
              "  <style>\n",
              "    .colab-df-container {\n",
              "      display:flex;\n",
              "      flex-wrap:wrap;\n",
              "      gap: 12px;\n",
              "    }\n",
              "\n",
              "    .colab-df-convert {\n",
              "      background-color: #E8F0FE;\n",
              "      border: none;\n",
              "      border-radius: 50%;\n",
              "      cursor: pointer;\n",
              "      display: none;\n",
              "      fill: #1967D2;\n",
              "      height: 32px;\n",
              "      padding: 0 0 0 0;\n",
              "      width: 32px;\n",
              "    }\n",
              "\n",
              "    .colab-df-convert:hover {\n",
              "      background-color: #E2EBFA;\n",
              "      box-shadow: 0px 1px 2px rgba(60, 64, 67, 0.3), 0px 1px 3px 1px rgba(60, 64, 67, 0.15);\n",
              "      fill: #174EA6;\n",
              "    }\n",
              "\n",
              "    [theme=dark] .colab-df-convert {\n",
              "      background-color: #3B4455;\n",
              "      fill: #D2E3FC;\n",
              "    }\n",
              "\n",
              "    [theme=dark] .colab-df-convert:hover {\n",
              "      background-color: #434B5C;\n",
              "      box-shadow: 0px 1px 3px 1px rgba(0, 0, 0, 0.15);\n",
              "      filter: drop-shadow(0px 1px 2px rgba(0, 0, 0, 0.3));\n",
              "      fill: #FFFFFF;\n",
              "    }\n",
              "  </style>\n",
              "\n",
              "      <script>\n",
              "        const buttonEl =\n",
              "          document.querySelector('#df-35144c3d-cd48-40fa-a0c0-bf69ec20c473 button.colab-df-convert');\n",
              "        buttonEl.style.display =\n",
              "          google.colab.kernel.accessAllowed ? 'block' : 'none';\n",
              "\n",
              "        async function convertToInteractive(key) {\n",
              "          const element = document.querySelector('#df-35144c3d-cd48-40fa-a0c0-bf69ec20c473');\n",
              "          const dataTable =\n",
              "            await google.colab.kernel.invokeFunction('convertToInteractive',\n",
              "                                                     [key], {});\n",
              "          if (!dataTable) return;\n",
              "\n",
              "          const docLinkHtml = 'Like what you see? Visit the ' +\n",
              "            '<a target=\"_blank\" href=https://colab.research.google.com/notebooks/data_table.ipynb>data table notebook</a>'\n",
              "            + ' to learn more about interactive tables.';\n",
              "          element.innerHTML = '';\n",
              "          dataTable['output_type'] = 'display_data';\n",
              "          await google.colab.output.renderOutput(dataTable, element);\n",
              "          const docLink = document.createElement('div');\n",
              "          docLink.innerHTML = docLinkHtml;\n",
              "          element.appendChild(docLink);\n",
              "        }\n",
              "      </script>\n",
              "    </div>\n",
              "  </div>\n",
              "  "
            ]
          },
          "metadata": {},
          "execution_count": 60
        }
      ]
    },
    {
      "cell_type": "code",
      "source": [
        "import nltk\n",
        "nltk.download('punkt')\n",
        "from nltk.tokenize import word_tokenize"
      ],
      "metadata": {
        "colab": {
          "base_uri": "https://localhost:8080/"
        },
        "id": "Qfz-NkE5_7bR",
        "outputId": "75410230-edf6-444f-a56c-926d2d69515e"
      },
      "execution_count": null,
      "outputs": [
        {
          "output_type": "stream",
          "name": "stderr",
          "text": [
            "[nltk_data] Downloading package punkt to /root/nltk_data...\n",
            "[nltk_data]   Package punkt is already up-to-date!\n"
          ]
        }
      ]
    },
    {
      "cell_type": "code",
      "source": [
        "df2['tokenized_data'] = df2['lower_case'].apply(lambda x:word_tokenize(x))"
      ],
      "metadata": {
        "id": "s8xRWsPjAVLE"
      },
      "execution_count": null,
      "outputs": []
    },
    {
      "cell_type": "code",
      "source": [
        "df2.to_csv('submission.csv')"
      ],
      "metadata": {
        "id": "zCT4BdsbAh82"
      },
      "execution_count": null,
      "outputs": []
    },
    {
      "cell_type": "code",
      "source": [
        "from IPython.display import HTML"
      ],
      "metadata": {
        "id": "_7hjmyyqArsb"
      },
      "execution_count": null,
      "outputs": []
    },
    {
      "cell_type": "code",
      "source": [
        "def create_download_link(title = \"Download CSV file\", filename = \"data.csv\"):  \n",
        "    html = '<a href={filename}>{title}</a>'\n",
        "    html = html.format(title=title,filename=filename)\n",
        "    return HTML(html)\n",
        "\n",
        "# create a link to download the dataframe which was saved with .to_csv method\n",
        "create_download_link(filename='submission.csv')"
      ],
      "metadata": {
        "colab": {
          "base_uri": "https://localhost:8080/",
          "height": 34
        },
        "id": "XltGeEvyNYFy",
        "outputId": "e5a8721d-23a2-4b68-fe59-10e54f52aa29"
      },
      "execution_count": null,
      "outputs": [
        {
          "output_type": "execute_result",
          "data": {
            "text/plain": [
              "<IPython.core.display.HTML object>"
            ],
            "text/html": [
              "<a href=submission.csv>Download CSV file</a>"
            ]
          },
          "metadata": {},
          "execution_count": 65
        }
      ]
    },
    {
      "cell_type": "code",
      "source": [
        "df2.to_csv('/content/file_name.csv')\n"
      ],
      "metadata": {
        "id": "448jay40OGZ6"
      },
      "execution_count": null,
      "outputs": []
    },
    {
      "cell_type": "code",
      "source": [
        "bag = {'he', 'she', 'her' , 'his' , 'him', 'boy', 'boys', 'girl', 'girls', 'man', 'men', 'woman', 'women', 'son', 'daughter', 'mother', 'mothers', 'father', 'fathers', 'brother', 'brothers', 'sister', 'sisters','male','males','female','females','sons','daughters','sir','miss','husband','wife','husbands','wives','prince','princess','king','queen','mom','dad','housewife','housewives','workmen','workwomen' }"
      ],
      "metadata": {
        "id": "UAdxbvHpPJb-"
      },
      "execution_count": null,
      "outputs": []
    },
    {
      "cell_type": "code",
      "source": [
        "len(bag)"
      ],
      "metadata": {
        "colab": {
          "base_uri": "https://localhost:8080/"
        },
        "id": "udrthG6rb2XG",
        "outputId": "83d10355-9822-449c-b435-6d3d2df20b18"
      },
      "execution_count": null,
      "outputs": [
        {
          "output_type": "execute_result",
          "data": {
            "text/plain": [
              "45"
            ]
          },
          "metadata": {},
          "execution_count": 83
        }
      ]
    },
    {
      "cell_type": "code",
      "source": [
        "def find_label(text_array, bag_of_words = bag):\n",
        "  label = 0\n",
        "  for x in bag_of_words:\n",
        "    if x in text_array:\n",
        "      label = 1\n",
        "  return label"
      ],
      "metadata": {
        "id": "87bA2yNhcBvm"
      },
      "execution_count": null,
      "outputs": []
    },
    {
      "cell_type": "code",
      "source": [
        "df2['label'] = df2['tokenized_data'].apply(lambda x:find_label(x))"
      ],
      "metadata": {
        "id": "piqLKhOAcfIh"
      },
      "execution_count": null,
      "outputs": []
    },
    {
      "cell_type": "code",
      "source": [
        "df2[df2['Unique id']==306]"
      ],
      "metadata": {
        "colab": {
          "base_uri": "https://localhost:8080/",
          "height": 159
        },
        "id": "k_yLAnsOLPnK",
        "outputId": "c0256d5b-196f-405f-c255-7c44f6c680c5"
      },
      "execution_count": null,
      "outputs": [
        {
          "output_type": "execute_result",
          "data": {
            "text/plain": [
              "     Unique id                                               text  \\\n",
              "305        306  We daily starve, having had no foodgrain in ou...   \n",
              "\n",
              "                                 Punctuation_free_text  \\\n",
              "305  We daily starve having had no foodgrain in our...   \n",
              "\n",
              "                                            lower_case  \\\n",
              "305  we daily starve having had no foodgrain in our...   \n",
              "\n",
              "                                        tokenized_data  label  \n",
              "305  [we, daily, starve, having, had, no, foodgrain...      1  "
            ],
            "text/html": [
              "\n",
              "  <div id=\"df-bb634a82-8614-4af5-9195-a26e58a29bd6\">\n",
              "    <div class=\"colab-df-container\">\n",
              "      <div>\n",
              "<style scoped>\n",
              "    .dataframe tbody tr th:only-of-type {\n",
              "        vertical-align: middle;\n",
              "    }\n",
              "\n",
              "    .dataframe tbody tr th {\n",
              "        vertical-align: top;\n",
              "    }\n",
              "\n",
              "    .dataframe thead th {\n",
              "        text-align: right;\n",
              "    }\n",
              "</style>\n",
              "<table border=\"1\" class=\"dataframe\">\n",
              "  <thead>\n",
              "    <tr style=\"text-align: right;\">\n",
              "      <th></th>\n",
              "      <th>Unique id</th>\n",
              "      <th>text</th>\n",
              "      <th>Punctuation_free_text</th>\n",
              "      <th>lower_case</th>\n",
              "      <th>tokenized_data</th>\n",
              "      <th>label</th>\n",
              "    </tr>\n",
              "  </thead>\n",
              "  <tbody>\n",
              "    <tr>\n",
              "      <th>305</th>\n",
              "      <td>306</td>\n",
              "      <td>We daily starve, having had no foodgrain in ou...</td>\n",
              "      <td>We daily starve having had no foodgrain in our...</td>\n",
              "      <td>we daily starve having had no foodgrain in our...</td>\n",
              "      <td>[we, daily, starve, having, had, no, foodgrain...</td>\n",
              "      <td>1</td>\n",
              "    </tr>\n",
              "  </tbody>\n",
              "</table>\n",
              "</div>\n",
              "      <button class=\"colab-df-convert\" onclick=\"convertToInteractive('df-bb634a82-8614-4af5-9195-a26e58a29bd6')\"\n",
              "              title=\"Convert this dataframe to an interactive table.\"\n",
              "              style=\"display:none;\">\n",
              "        \n",
              "  <svg xmlns=\"http://www.w3.org/2000/svg\" height=\"24px\"viewBox=\"0 0 24 24\"\n",
              "       width=\"24px\">\n",
              "    <path d=\"M0 0h24v24H0V0z\" fill=\"none\"/>\n",
              "    <path d=\"M18.56 5.44l.94 2.06.94-2.06 2.06-.94-2.06-.94-.94-2.06-.94 2.06-2.06.94zm-11 1L8.5 8.5l.94-2.06 2.06-.94-2.06-.94L8.5 2.5l-.94 2.06-2.06.94zm10 10l.94 2.06.94-2.06 2.06-.94-2.06-.94-.94-2.06-.94 2.06-2.06.94z\"/><path d=\"M17.41 7.96l-1.37-1.37c-.4-.4-.92-.59-1.43-.59-.52 0-1.04.2-1.43.59L10.3 9.45l-7.72 7.72c-.78.78-.78 2.05 0 2.83L4 21.41c.39.39.9.59 1.41.59.51 0 1.02-.2 1.41-.59l7.78-7.78 2.81-2.81c.8-.78.8-2.07 0-2.86zM5.41 20L4 18.59l7.72-7.72 1.47 1.35L5.41 20z\"/>\n",
              "  </svg>\n",
              "      </button>\n",
              "      \n",
              "  <style>\n",
              "    .colab-df-container {\n",
              "      display:flex;\n",
              "      flex-wrap:wrap;\n",
              "      gap: 12px;\n",
              "    }\n",
              "\n",
              "    .colab-df-convert {\n",
              "      background-color: #E8F0FE;\n",
              "      border: none;\n",
              "      border-radius: 50%;\n",
              "      cursor: pointer;\n",
              "      display: none;\n",
              "      fill: #1967D2;\n",
              "      height: 32px;\n",
              "      padding: 0 0 0 0;\n",
              "      width: 32px;\n",
              "    }\n",
              "\n",
              "    .colab-df-convert:hover {\n",
              "      background-color: #E2EBFA;\n",
              "      box-shadow: 0px 1px 2px rgba(60, 64, 67, 0.3), 0px 1px 3px 1px rgba(60, 64, 67, 0.15);\n",
              "      fill: #174EA6;\n",
              "    }\n",
              "\n",
              "    [theme=dark] .colab-df-convert {\n",
              "      background-color: #3B4455;\n",
              "      fill: #D2E3FC;\n",
              "    }\n",
              "\n",
              "    [theme=dark] .colab-df-convert:hover {\n",
              "      background-color: #434B5C;\n",
              "      box-shadow: 0px 1px 3px 1px rgba(0, 0, 0, 0.15);\n",
              "      filter: drop-shadow(0px 1px 2px rgba(0, 0, 0, 0.3));\n",
              "      fill: #FFFFFF;\n",
              "    }\n",
              "  </style>\n",
              "\n",
              "      <script>\n",
              "        const buttonEl =\n",
              "          document.querySelector('#df-bb634a82-8614-4af5-9195-a26e58a29bd6 button.colab-df-convert');\n",
              "        buttonEl.style.display =\n",
              "          google.colab.kernel.accessAllowed ? 'block' : 'none';\n",
              "\n",
              "        async function convertToInteractive(key) {\n",
              "          const element = document.querySelector('#df-bb634a82-8614-4af5-9195-a26e58a29bd6');\n",
              "          const dataTable =\n",
              "            await google.colab.kernel.invokeFunction('convertToInteractive',\n",
              "                                                     [key], {});\n",
              "          if (!dataTable) return;\n",
              "\n",
              "          const docLinkHtml = 'Like what you see? Visit the ' +\n",
              "            '<a target=\"_blank\" href=https://colab.research.google.com/notebooks/data_table.ipynb>data table notebook</a>'\n",
              "            + ' to learn more about interactive tables.';\n",
              "          element.innerHTML = '';\n",
              "          dataTable['output_type'] = 'display_data';\n",
              "          await google.colab.output.renderOutput(dataTable, element);\n",
              "          const docLink = document.createElement('div');\n",
              "          docLink.innerHTML = docLinkHtml;\n",
              "          element.appendChild(docLink);\n",
              "        }\n",
              "      </script>\n",
              "    </div>\n",
              "  </div>\n",
              "  "
            ]
          },
          "metadata": {},
          "execution_count": 71
        }
      ]
    },
    {
      "cell_type": "code",
      "source": [
        "df2"
      ],
      "metadata": {
        "colab": {
          "base_uri": "https://localhost:8080/",
          "height": 676
        },
        "id": "iAyeBcGacuTn",
        "outputId": "075b395e-a809-4e9a-d45b-7f928f3a66d7"
      },
      "execution_count": null,
      "outputs": [
        {
          "output_type": "execute_result",
          "data": {
            "text/plain": [
              "      Unique id                                               text  \\\n",
              "0             1  Besides these forests naturally developed fore...   \n",
              "1             2  Your mother cleans the rice by separating husk...   \n",
              "2             3  All free gifts of nature and all things which ...   \n",
              "3             4  Humanism - the concept that man is the measure...   \n",
              "4             5  Various designs in clothing are found dependin...   \n",
              "...         ...                                                ...   \n",
              "1995       1996  Bring both the ends of threads together and pu...   \n",
              "1996       1997  What is the duration of the longest day in Dec...   \n",
              "1997       1998  PotassiumProtein synthesisEnables the opening ...   \n",
              "1998       1999  To prevent water pollution in our country prim...   \n",
              "1999       2000  This game was used effectively in sports educa...   \n",
              "\n",
              "                                  Punctuation_free_text  \\\n",
              "0     Besides these forests naturally developed fore...   \n",
              "1     Your mother cleans the rice by separating husk...   \n",
              "2     All free gifts of nature and all things which ...   \n",
              "3     Humanism  the concept that man is the measure ...   \n",
              "4     Various designs in clothing are found dependin...   \n",
              "...                                                 ...   \n",
              "1995  Bring both the ends of threads together and pu...   \n",
              "1996  What is the duration of the longest day in Dec...   \n",
              "1997  PotassiumProtein synthesisEnables the opening ...   \n",
              "1998  To prevent water pollution in our country prim...   \n",
              "1999  This game was used effectively in sports educa...   \n",
              "\n",
              "                                             lower_case  \\\n",
              "0     besides these forests naturally developed fore...   \n",
              "1     your mother cleans the rice by separating husk...   \n",
              "2     all free gifts of nature and all things which ...   \n",
              "3     humanism  the concept that man is the measure ...   \n",
              "4     various designs in clothing are found dependin...   \n",
              "...                                                 ...   \n",
              "1995  bring both the ends of threads together and pu...   \n",
              "1996  what is the duration of the longest day in dec...   \n",
              "1997  potassiumprotein synthesisenables the opening ...   \n",
              "1998  to prevent water pollution in our country prim...   \n",
              "1999  this game was used effectively in sports educa...   \n",
              "\n",
              "                                         tokenized_data  label  \n",
              "0     [besides, these, forests, naturally, developed...      1  \n",
              "1     [your, mother, cleans, the, rice, by, separati...      1  \n",
              "2     [all, free, gifts, of, nature, and, all, thing...      1  \n",
              "3     [humanism, the, concept, that, man, is, the, m...      1  \n",
              "4     [various, designs, in, clothing, are, found, d...      1  \n",
              "...                                                 ...    ...  \n",
              "1995  [bring, both, the, ends, of, threads, together...      0  \n",
              "1996  [what, is, the, duration, of, the, longest, da...      0  \n",
              "1997  [potassiumprotein, synthesisenables, the, open...      0  \n",
              "1998  [to, prevent, water, pollution, in, our, count...      0  \n",
              "1999  [this, game, was, used, effectively, in, sport...      0  \n",
              "\n",
              "[2000 rows x 6 columns]"
            ],
            "text/html": [
              "\n",
              "  <div id=\"df-13ec4c9c-1949-4a0b-b9c3-e37909afb848\">\n",
              "    <div class=\"colab-df-container\">\n",
              "      <div>\n",
              "<style scoped>\n",
              "    .dataframe tbody tr th:only-of-type {\n",
              "        vertical-align: middle;\n",
              "    }\n",
              "\n",
              "    .dataframe tbody tr th {\n",
              "        vertical-align: top;\n",
              "    }\n",
              "\n",
              "    .dataframe thead th {\n",
              "        text-align: right;\n",
              "    }\n",
              "</style>\n",
              "<table border=\"1\" class=\"dataframe\">\n",
              "  <thead>\n",
              "    <tr style=\"text-align: right;\">\n",
              "      <th></th>\n",
              "      <th>Unique id</th>\n",
              "      <th>text</th>\n",
              "      <th>Punctuation_free_text</th>\n",
              "      <th>lower_case</th>\n",
              "      <th>tokenized_data</th>\n",
              "      <th>label</th>\n",
              "    </tr>\n",
              "  </thead>\n",
              "  <tbody>\n",
              "    <tr>\n",
              "      <th>0</th>\n",
              "      <td>1</td>\n",
              "      <td>Besides these forests naturally developed fore...</td>\n",
              "      <td>Besides these forests naturally developed fore...</td>\n",
              "      <td>besides these forests naturally developed fore...</td>\n",
              "      <td>[besides, these, forests, naturally, developed...</td>\n",
              "      <td>1</td>\n",
              "    </tr>\n",
              "    <tr>\n",
              "      <th>1</th>\n",
              "      <td>2</td>\n",
              "      <td>Your mother cleans the rice by separating husk...</td>\n",
              "      <td>Your mother cleans the rice by separating husk...</td>\n",
              "      <td>your mother cleans the rice by separating husk...</td>\n",
              "      <td>[your, mother, cleans, the, rice, by, separati...</td>\n",
              "      <td>1</td>\n",
              "    </tr>\n",
              "    <tr>\n",
              "      <th>2</th>\n",
              "      <td>3</td>\n",
              "      <td>All free gifts of nature and all things which ...</td>\n",
              "      <td>All free gifts of nature and all things which ...</td>\n",
              "      <td>all free gifts of nature and all things which ...</td>\n",
              "      <td>[all, free, gifts, of, nature, and, all, thing...</td>\n",
              "      <td>1</td>\n",
              "    </tr>\n",
              "    <tr>\n",
              "      <th>3</th>\n",
              "      <td>4</td>\n",
              "      <td>Humanism - the concept that man is the measure...</td>\n",
              "      <td>Humanism  the concept that man is the measure ...</td>\n",
              "      <td>humanism  the concept that man is the measure ...</td>\n",
              "      <td>[humanism, the, concept, that, man, is, the, m...</td>\n",
              "      <td>1</td>\n",
              "    </tr>\n",
              "    <tr>\n",
              "      <th>4</th>\n",
              "      <td>5</td>\n",
              "      <td>Various designs in clothing are found dependin...</td>\n",
              "      <td>Various designs in clothing are found dependin...</td>\n",
              "      <td>various designs in clothing are found dependin...</td>\n",
              "      <td>[various, designs, in, clothing, are, found, d...</td>\n",
              "      <td>1</td>\n",
              "    </tr>\n",
              "    <tr>\n",
              "      <th>...</th>\n",
              "      <td>...</td>\n",
              "      <td>...</td>\n",
              "      <td>...</td>\n",
              "      <td>...</td>\n",
              "      <td>...</td>\n",
              "      <td>...</td>\n",
              "    </tr>\n",
              "    <tr>\n",
              "      <th>1995</th>\n",
              "      <td>1996</td>\n",
              "      <td>Bring both the ends of threads together and pu...</td>\n",
              "      <td>Bring both the ends of threads together and pu...</td>\n",
              "      <td>bring both the ends of threads together and pu...</td>\n",
              "      <td>[bring, both, the, ends, of, threads, together...</td>\n",
              "      <td>0</td>\n",
              "    </tr>\n",
              "    <tr>\n",
              "      <th>1996</th>\n",
              "      <td>1997</td>\n",
              "      <td>What is the duration of the longest day in Dec...</td>\n",
              "      <td>What is the duration of the longest day in Dec...</td>\n",
              "      <td>what is the duration of the longest day in dec...</td>\n",
              "      <td>[what, is, the, duration, of, the, longest, da...</td>\n",
              "      <td>0</td>\n",
              "    </tr>\n",
              "    <tr>\n",
              "      <th>1997</th>\n",
              "      <td>1998</td>\n",
              "      <td>PotassiumProtein synthesisEnables the opening ...</td>\n",
              "      <td>PotassiumProtein synthesisEnables the opening ...</td>\n",
              "      <td>potassiumprotein synthesisenables the opening ...</td>\n",
              "      <td>[potassiumprotein, synthesisenables, the, open...</td>\n",
              "      <td>0</td>\n",
              "    </tr>\n",
              "    <tr>\n",
              "      <th>1998</th>\n",
              "      <td>1999</td>\n",
              "      <td>To prevent water pollution in our country prim...</td>\n",
              "      <td>To prevent water pollution in our country prim...</td>\n",
              "      <td>to prevent water pollution in our country prim...</td>\n",
              "      <td>[to, prevent, water, pollution, in, our, count...</td>\n",
              "      <td>0</td>\n",
              "    </tr>\n",
              "    <tr>\n",
              "      <th>1999</th>\n",
              "      <td>2000</td>\n",
              "      <td>This game was used effectively in sports educa...</td>\n",
              "      <td>This game was used effectively in sports educa...</td>\n",
              "      <td>this game was used effectively in sports educa...</td>\n",
              "      <td>[this, game, was, used, effectively, in, sport...</td>\n",
              "      <td>0</td>\n",
              "    </tr>\n",
              "  </tbody>\n",
              "</table>\n",
              "<p>2000 rows × 6 columns</p>\n",
              "</div>\n",
              "      <button class=\"colab-df-convert\" onclick=\"convertToInteractive('df-13ec4c9c-1949-4a0b-b9c3-e37909afb848')\"\n",
              "              title=\"Convert this dataframe to an interactive table.\"\n",
              "              style=\"display:none;\">\n",
              "        \n",
              "  <svg xmlns=\"http://www.w3.org/2000/svg\" height=\"24px\"viewBox=\"0 0 24 24\"\n",
              "       width=\"24px\">\n",
              "    <path d=\"M0 0h24v24H0V0z\" fill=\"none\"/>\n",
              "    <path d=\"M18.56 5.44l.94 2.06.94-2.06 2.06-.94-2.06-.94-.94-2.06-.94 2.06-2.06.94zm-11 1L8.5 8.5l.94-2.06 2.06-.94-2.06-.94L8.5 2.5l-.94 2.06-2.06.94zm10 10l.94 2.06.94-2.06 2.06-.94-2.06-.94-.94-2.06-.94 2.06-2.06.94z\"/><path d=\"M17.41 7.96l-1.37-1.37c-.4-.4-.92-.59-1.43-.59-.52 0-1.04.2-1.43.59L10.3 9.45l-7.72 7.72c-.78.78-.78 2.05 0 2.83L4 21.41c.39.39.9.59 1.41.59.51 0 1.02-.2 1.41-.59l7.78-7.78 2.81-2.81c.8-.78.8-2.07 0-2.86zM5.41 20L4 18.59l7.72-7.72 1.47 1.35L5.41 20z\"/>\n",
              "  </svg>\n",
              "      </button>\n",
              "      \n",
              "  <style>\n",
              "    .colab-df-container {\n",
              "      display:flex;\n",
              "      flex-wrap:wrap;\n",
              "      gap: 12px;\n",
              "    }\n",
              "\n",
              "    .colab-df-convert {\n",
              "      background-color: #E8F0FE;\n",
              "      border: none;\n",
              "      border-radius: 50%;\n",
              "      cursor: pointer;\n",
              "      display: none;\n",
              "      fill: #1967D2;\n",
              "      height: 32px;\n",
              "      padding: 0 0 0 0;\n",
              "      width: 32px;\n",
              "    }\n",
              "\n",
              "    .colab-df-convert:hover {\n",
              "      background-color: #E2EBFA;\n",
              "      box-shadow: 0px 1px 2px rgba(60, 64, 67, 0.3), 0px 1px 3px 1px rgba(60, 64, 67, 0.15);\n",
              "      fill: #174EA6;\n",
              "    }\n",
              "\n",
              "    [theme=dark] .colab-df-convert {\n",
              "      background-color: #3B4455;\n",
              "      fill: #D2E3FC;\n",
              "    }\n",
              "\n",
              "    [theme=dark] .colab-df-convert:hover {\n",
              "      background-color: #434B5C;\n",
              "      box-shadow: 0px 1px 3px 1px rgba(0, 0, 0, 0.15);\n",
              "      filter: drop-shadow(0px 1px 2px rgba(0, 0, 0, 0.3));\n",
              "      fill: #FFFFFF;\n",
              "    }\n",
              "  </style>\n",
              "\n",
              "      <script>\n",
              "        const buttonEl =\n",
              "          document.querySelector('#df-13ec4c9c-1949-4a0b-b9c3-e37909afb848 button.colab-df-convert');\n",
              "        buttonEl.style.display =\n",
              "          google.colab.kernel.accessAllowed ? 'block' : 'none';\n",
              "\n",
              "        async function convertToInteractive(key) {\n",
              "          const element = document.querySelector('#df-13ec4c9c-1949-4a0b-b9c3-e37909afb848');\n",
              "          const dataTable =\n",
              "            await google.colab.kernel.invokeFunction('convertToInteractive',\n",
              "                                                     [key], {});\n",
              "          if (!dataTable) return;\n",
              "\n",
              "          const docLinkHtml = 'Like what you see? Visit the ' +\n",
              "            '<a target=\"_blank\" href=https://colab.research.google.com/notebooks/data_table.ipynb>data table notebook</a>'\n",
              "            + ' to learn more about interactive tables.';\n",
              "          element.innerHTML = '';\n",
              "          dataTable['output_type'] = 'display_data';\n",
              "          await google.colab.output.renderOutput(dataTable, element);\n",
              "          const docLink = document.createElement('div');\n",
              "          docLink.innerHTML = docLinkHtml;\n",
              "          element.appendChild(docLink);\n",
              "        }\n",
              "      </script>\n",
              "    </div>\n",
              "  </div>\n",
              "  "
            ]
          },
          "metadata": {},
          "execution_count": 72
        }
      ]
    },
    {
      "cell_type": "code",
      "source": [
        "df1"
      ],
      "metadata": {
        "colab": {
          "base_uri": "https://localhost:8080/",
          "height": 424
        },
        "id": "R-3l-dmDcvv_",
        "outputId": "850a1bae-eebb-4af4-f7e4-6320ff47474f"
      },
      "execution_count": null,
      "outputs": [
        {
          "output_type": "execute_result",
          "data": {
            "text/plain": [
              "        St 1  St 2  Code\n",
              "0         98   651     0\n",
              "1        696  1870     1\n",
              "2       1073  1620     0\n",
              "3        167   633     0\n",
              "4          4   640     0\n",
              "...      ...   ...   ...\n",
              "155946   546  1512     1\n",
              "155947   720  1902     1\n",
              "155948  1112  1591     0\n",
              "155949   396  1472     1\n",
              "155950  1021  1680     0\n",
              "\n",
              "[155951 rows x 3 columns]"
            ],
            "text/html": [
              "\n",
              "  <div id=\"df-e6a1df4b-d2f3-44a1-9ebf-040c10736aae\">\n",
              "    <div class=\"colab-df-container\">\n",
              "      <div>\n",
              "<style scoped>\n",
              "    .dataframe tbody tr th:only-of-type {\n",
              "        vertical-align: middle;\n",
              "    }\n",
              "\n",
              "    .dataframe tbody tr th {\n",
              "        vertical-align: top;\n",
              "    }\n",
              "\n",
              "    .dataframe thead th {\n",
              "        text-align: right;\n",
              "    }\n",
              "</style>\n",
              "<table border=\"1\" class=\"dataframe\">\n",
              "  <thead>\n",
              "    <tr style=\"text-align: right;\">\n",
              "      <th></th>\n",
              "      <th>St 1</th>\n",
              "      <th>St 2</th>\n",
              "      <th>Code</th>\n",
              "    </tr>\n",
              "  </thead>\n",
              "  <tbody>\n",
              "    <tr>\n",
              "      <th>0</th>\n",
              "      <td>98</td>\n",
              "      <td>651</td>\n",
              "      <td>0</td>\n",
              "    </tr>\n",
              "    <tr>\n",
              "      <th>1</th>\n",
              "      <td>696</td>\n",
              "      <td>1870</td>\n",
              "      <td>1</td>\n",
              "    </tr>\n",
              "    <tr>\n",
              "      <th>2</th>\n",
              "      <td>1073</td>\n",
              "      <td>1620</td>\n",
              "      <td>0</td>\n",
              "    </tr>\n",
              "    <tr>\n",
              "      <th>3</th>\n",
              "      <td>167</td>\n",
              "      <td>633</td>\n",
              "      <td>0</td>\n",
              "    </tr>\n",
              "    <tr>\n",
              "      <th>4</th>\n",
              "      <td>4</td>\n",
              "      <td>640</td>\n",
              "      <td>0</td>\n",
              "    </tr>\n",
              "    <tr>\n",
              "      <th>...</th>\n",
              "      <td>...</td>\n",
              "      <td>...</td>\n",
              "      <td>...</td>\n",
              "    </tr>\n",
              "    <tr>\n",
              "      <th>155946</th>\n",
              "      <td>546</td>\n",
              "      <td>1512</td>\n",
              "      <td>1</td>\n",
              "    </tr>\n",
              "    <tr>\n",
              "      <th>155947</th>\n",
              "      <td>720</td>\n",
              "      <td>1902</td>\n",
              "      <td>1</td>\n",
              "    </tr>\n",
              "    <tr>\n",
              "      <th>155948</th>\n",
              "      <td>1112</td>\n",
              "      <td>1591</td>\n",
              "      <td>0</td>\n",
              "    </tr>\n",
              "    <tr>\n",
              "      <th>155949</th>\n",
              "      <td>396</td>\n",
              "      <td>1472</td>\n",
              "      <td>1</td>\n",
              "    </tr>\n",
              "    <tr>\n",
              "      <th>155950</th>\n",
              "      <td>1021</td>\n",
              "      <td>1680</td>\n",
              "      <td>0</td>\n",
              "    </tr>\n",
              "  </tbody>\n",
              "</table>\n",
              "<p>155951 rows × 3 columns</p>\n",
              "</div>\n",
              "      <button class=\"colab-df-convert\" onclick=\"convertToInteractive('df-e6a1df4b-d2f3-44a1-9ebf-040c10736aae')\"\n",
              "              title=\"Convert this dataframe to an interactive table.\"\n",
              "              style=\"display:none;\">\n",
              "        \n",
              "  <svg xmlns=\"http://www.w3.org/2000/svg\" height=\"24px\"viewBox=\"0 0 24 24\"\n",
              "       width=\"24px\">\n",
              "    <path d=\"M0 0h24v24H0V0z\" fill=\"none\"/>\n",
              "    <path d=\"M18.56 5.44l.94 2.06.94-2.06 2.06-.94-2.06-.94-.94-2.06-.94 2.06-2.06.94zm-11 1L8.5 8.5l.94-2.06 2.06-.94-2.06-.94L8.5 2.5l-.94 2.06-2.06.94zm10 10l.94 2.06.94-2.06 2.06-.94-2.06-.94-.94-2.06-.94 2.06-2.06.94z\"/><path d=\"M17.41 7.96l-1.37-1.37c-.4-.4-.92-.59-1.43-.59-.52 0-1.04.2-1.43.59L10.3 9.45l-7.72 7.72c-.78.78-.78 2.05 0 2.83L4 21.41c.39.39.9.59 1.41.59.51 0 1.02-.2 1.41-.59l7.78-7.78 2.81-2.81c.8-.78.8-2.07 0-2.86zM5.41 20L4 18.59l7.72-7.72 1.47 1.35L5.41 20z\"/>\n",
              "  </svg>\n",
              "      </button>\n",
              "      \n",
              "  <style>\n",
              "    .colab-df-container {\n",
              "      display:flex;\n",
              "      flex-wrap:wrap;\n",
              "      gap: 12px;\n",
              "    }\n",
              "\n",
              "    .colab-df-convert {\n",
              "      background-color: #E8F0FE;\n",
              "      border: none;\n",
              "      border-radius: 50%;\n",
              "      cursor: pointer;\n",
              "      display: none;\n",
              "      fill: #1967D2;\n",
              "      height: 32px;\n",
              "      padding: 0 0 0 0;\n",
              "      width: 32px;\n",
              "    }\n",
              "\n",
              "    .colab-df-convert:hover {\n",
              "      background-color: #E2EBFA;\n",
              "      box-shadow: 0px 1px 2px rgba(60, 64, 67, 0.3), 0px 1px 3px 1px rgba(60, 64, 67, 0.15);\n",
              "      fill: #174EA6;\n",
              "    }\n",
              "\n",
              "    [theme=dark] .colab-df-convert {\n",
              "      background-color: #3B4455;\n",
              "      fill: #D2E3FC;\n",
              "    }\n",
              "\n",
              "    [theme=dark] .colab-df-convert:hover {\n",
              "      background-color: #434B5C;\n",
              "      box-shadow: 0px 1px 3px 1px rgba(0, 0, 0, 0.15);\n",
              "      filter: drop-shadow(0px 1px 2px rgba(0, 0, 0, 0.3));\n",
              "      fill: #FFFFFF;\n",
              "    }\n",
              "  </style>\n",
              "\n",
              "      <script>\n",
              "        const buttonEl =\n",
              "          document.querySelector('#df-e6a1df4b-d2f3-44a1-9ebf-040c10736aae button.colab-df-convert');\n",
              "        buttonEl.style.display =\n",
              "          google.colab.kernel.accessAllowed ? 'block' : 'none';\n",
              "\n",
              "        async function convertToInteractive(key) {\n",
              "          const element = document.querySelector('#df-e6a1df4b-d2f3-44a1-9ebf-040c10736aae');\n",
              "          const dataTable =\n",
              "            await google.colab.kernel.invokeFunction('convertToInteractive',\n",
              "                                                     [key], {});\n",
              "          if (!dataTable) return;\n",
              "\n",
              "          const docLinkHtml = 'Like what you see? Visit the ' +\n",
              "            '<a target=\"_blank\" href=https://colab.research.google.com/notebooks/data_table.ipynb>data table notebook</a>'\n",
              "            + ' to learn more about interactive tables.';\n",
              "          element.innerHTML = '';\n",
              "          dataTable['output_type'] = 'display_data';\n",
              "          await google.colab.output.renderOutput(dataTable, element);\n",
              "          const docLink = document.createElement('div');\n",
              "          docLink.innerHTML = docLinkHtml;\n",
              "          element.appendChild(docLink);\n",
              "        }\n",
              "      </script>\n",
              "    </div>\n",
              "  </div>\n",
              "  "
            ]
          },
          "metadata": {},
          "execution_count": 73
        }
      ]
    },
    {
      "cell_type": "code",
      "source": [
        "def our_label(st1,st2):\n",
        "  our_label = 1\n",
        "  if df2[df2['Unique id'] == st1]['label'].values[0] == df2[df2['Unique id'] == st2]['label'].values[0]:\n",
        "    our_label = 0\n",
        "  return our_label"
      ],
      "metadata": {
        "id": "AB2ODU2Rc_Ac"
      },
      "execution_count": null,
      "outputs": []
    },
    {
      "cell_type": "code",
      "source": [
        "y=np.zeros(len(df1))"
      ],
      "metadata": {
        "id": "5qUEYkgaHpJj"
      },
      "execution_count": null,
      "outputs": []
    },
    {
      "cell_type": "code",
      "source": [
        "No_of_correct = 0\n",
        "for x in range(df1.shape[0]):\n",
        "  row = df1.iloc[x]\n",
        "  s1 = row['St 1']\n",
        "  s2 = row['St 2']\n",
        "  if our_label(s1,s2) == row['Code']:\n",
        "    No_of_correct = No_of_correct + 1\n",
        "    y[x]=1\n",
        "  \n",
        "\n"
      ],
      "metadata": {
        "id": "tAcHdy0bj16x"
      },
      "execution_count": null,
      "outputs": []
    },
    {
      "cell_type": "code",
      "source": [
        "errors=pd.DataFrame()\n",
        "=0\n",
        "for x in len(y):\n",
        "  if y[x]==0:\n",
        "    errors[y]=df1[x]\n",
        "    y=y+1"
      ],
      "metadata": {
        "colab": {
          "base_uri": "https://localhost:8080/",
          "height": 133
        },
        "id": "mBTmyey-JJiM",
        "outputId": "a5c6e2ae-461b-41ae-c02e-5b2e3c617d9c"
      },
      "execution_count": null,
      "outputs": [
        {
          "output_type": "error",
          "ename": "SyntaxError",
          "evalue": "ignored",
          "traceback": [
            "\u001b[0;36m  File \u001b[0;32m\"<ipython-input-77-72649f27067a>\"\u001b[0;36m, line \u001b[0;32m2\u001b[0m\n\u001b[0;31m    =0\u001b[0m\n\u001b[0m    ^\u001b[0m\n\u001b[0;31mSyntaxError\u001b[0m\u001b[0;31m:\u001b[0m invalid syntax\n"
          ]
        }
      ]
    },
    {
      "cell_type": "code",
      "source": [
        "No_of_correct*100/df1.shape[0]"
      ],
      "metadata": {
        "colab": {
          "base_uri": "https://localhost:8080/"
        },
        "id": "rzp8pi9ronpN",
        "outputId": "da6116d1-5714-4289-c560-4ac08653939f"
      },
      "execution_count": null,
      "outputs": [
        {
          "output_type": "execute_result",
          "data": {
            "text/plain": [
              "92.0859757231438"
            ]
          },
          "metadata": {},
          "execution_count": 89
        }
      ]
    },
    {
      "cell_type": "code",
      "source": [
        "\n",
        "No_of_correct"
      ],
      "metadata": {
        "colab": {
          "base_uri": "https://localhost:8080/"
        },
        "id": "xbo9NATLpg_d",
        "outputId": "a05ca0a7-62c8-49ab-b071-ae9091c40552"
      },
      "execution_count": null,
      "outputs": [
        {
          "output_type": "execute_result",
          "data": {
            "text/plain": [
              "143609"
            ]
          },
          "metadata": {},
          "execution_count": 90
        }
      ]
    },
    {
      "cell_type": "code",
      "source": [
        "df1.shape[0]"
      ],
      "metadata": {
        "colab": {
          "base_uri": "https://localhost:8080/"
        },
        "id": "zPvJvBqh0gK6",
        "outputId": "d73f0752-c4cd-433b-caf5-35e752d69e27"
      },
      "execution_count": null,
      "outputs": [
        {
          "output_type": "execute_result",
          "data": {
            "text/plain": [
              "155951"
            ]
          },
          "metadata": {},
          "execution_count": 91
        }
      ]
    },
    {
      "cell_type": "code",
      "source": [],
      "metadata": {
        "id": "pwlWs2wd0iJV"
      },
      "execution_count": null,
      "outputs": []
    }
  ]
}